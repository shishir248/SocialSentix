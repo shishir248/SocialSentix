{
 "cells": [
  {
   "cell_type": "code",
   "execution_count": 1,
   "id": "62dd43fd-83f5-4e7a-86af-e2816a91b893",
   "metadata": {},
   "outputs": [],
   "source": [
    "from bardapi import Bard"
   ]
  },
  {
   "cell_type": "code",
   "execution_count": 3,
   "id": "399b7788-7440-4d54-b389-aebd5ff4bc0d",
   "metadata": {},
   "outputs": [],
   "source": [
    "import json\n",
    "with open ('new_symbols.json', 'r') as r:\n",
    "    data = json.load(r)"
   ]
  },
  {
   "cell_type": "code",
   "execution_count": 7,
   "id": "883b21b6-4de9-4e27-9944-cc60028e3fd2",
   "metadata": {},
   "outputs": [
    {
     "ename": "ValueError",
     "evalue": "too many values to unpack (expected 2)",
     "output_type": "error",
     "traceback": [
      "\u001b[0;31m---------------------------------------------------------------------------\u001b[0m",
      "\u001b[0;31mValueError\u001b[0m                                Traceback (most recent call last)",
      "Cell \u001b[0;32mIn[7], line 1\u001b[0m\n\u001b[0;32m----> 1\u001b[0m \u001b[38;5;28;01mfor\u001b[39;00m symbol, value \u001b[38;5;129;01min\u001b[39;00m data:\n\u001b[1;32m      2\u001b[0m     concat_comments \u001b[38;5;241m=\u001b[39m \u001b[38;5;124m'\u001b[39m\u001b[38;5;124m'\u001b[39m\n\u001b[1;32m      3\u001b[0m     \u001b[38;5;28;01mfor\u001b[39;00m comment \u001b[38;5;129;01min\u001b[39;00m value[\u001b[38;5;124m'\u001b[39m\u001b[38;5;124mcomments\u001b[39m\u001b[38;5;124m'\u001b[39m]:\n",
      "\u001b[0;31mValueError\u001b[0m: too many values to unpack (expected 2)"
     ]
    }
   ],
   "source": [
    "for symbol, value in data:\n",
    "    concat_comments = ''\n",
    "    for comment in value['comments']:\n",
    "        concat_comments += comment\n",
    "    symbol['concatenated_comments'] = concat_comments"
   ]
  },
  {
   "cell_type": "code",
   "execution_count": null,
   "id": "9ada989b-8aa5-4525-9ba2-63b5ceb7ae0d",
   "metadata": {},
   "outputs": [],
   "source": [
    "token = 'bgjoHVx1zno9kTEoks1Pdsihc6v5AfQ8CkMLLlAlhdZNun_xDBKtekepjGkbHggtwsEubQ.'\n",
    "Bard(token=token).get_answer(ques)['content']"
   ]
  }
 ],
 "metadata": {
  "kernelspec": {
   "display_name": "Python 3 (ipykernel)",
   "language": "python",
   "name": "python3"
  },
  "language_info": {
   "codemirror_mode": {
    "name": "ipython",
    "version": 3
   },
   "file_extension": ".py",
   "mimetype": "text/x-python",
   "name": "python",
   "nbconvert_exporter": "python",
   "pygments_lexer": "ipython3",
   "version": "3.10.0"
  }
 },
 "nbformat": 4,
 "nbformat_minor": 5
}
